{
 "cells": [
  {
   "cell_type": "markdown",
   "metadata": {},
   "source": [
    "## Sequence Mastery Checkpoint - Joao Cavalcanti"
   ]
  },
  {
   "cell_type": "markdown",
   "metadata": {},
   "source": [
    "This algorithm generates a t-dimensional matrix for aligning t sequences. Utilizes a very basic scoring, where a pairwise match is 1 point, and everything else 0. Only supports 2-5 sequences. Optimize running or space complexity wasn't a goal of this exercise.\n",
    "\n",
    "The greatest difficulty was iterating over the matrix and backtracing generically, but it was mainly achievable by using ndarrays and a built-in method that allows iteration with index tracking."
   ]
  },
  {
   "cell_type": "markdown",
   "metadata": {},
   "source": [
    "### Helper Functions"
   ]
  },
  {
   "cell_type": "code",
   "execution_count": 1,
   "metadata": {},
   "outputs": [],
   "source": [
    "%load_ext autoreload\n",
    "%autoreload 2\n",
    "\n",
    "import Assignment2_helper as helper1\n",
    "import Topic2_helper as helper2\n",
    "import pandas as pd\n",
    "\n",
    "import collections \n",
    "\n",
    "# filters permutations that consist of only gaps ('-')\n",
    "def filter_all_gaps(perms):\n",
    "    filtered_perms = []\n",
    "    for perm in perms:\n",
    "        if perm.count('-') != len(perm):\n",
    "            filtered_perms.append(perm)\n",
    "    return filtered_perms\n",
    "\n",
    "# scores alignments with 1 point per match of each pair of sequences\n",
    "# for example, if there is an alignment for 3 sequences, 2 points is the score\n",
    "def score_alignment(alignment):\n",
    "    counter = dict(collections.Counter(alignment))\n",
    "    score = 0\n",
    "    for element, freq in counter.items():\n",
    "        if element != '-' and freq > 1:\n",
    "            score += freq - 1\n",
    "    return score\n",
    "\n",
    "# get all possible permutations for gaps and nucleotides\n",
    "def get_permutations(chars, n):\n",
    "    permutations = [[c] + ['-']*(len(chars)-1) for c in chars]\n",
    "    if n == 2:\n",
    "        permutations = [[i, j] for i in permutations[0] for j in permutations[1]]\n",
    "    elif n == 3: \n",
    "        permutations = [[i, j, k] for i in permutations[0] for j in permutations[1] for k in permutations[2]]\n",
    "    elif n == 4:\n",
    "        permutations = [[i, j, k, v] for i in permutations[0] for j in permutations[1] for k in permutations[2] for v in permutations[3]]\n",
    "    elif n == 5: \n",
    "        permutations = [[i, j, k, v, w] for i in permutations[0] for j in permutations[1] for k in permutations[2] for v in permutations[3] for w in permutations[4]]\n",
    "    else:\n",
    "        print(\"number of sequences not supported! Likely to crash!\")\n",
    "    permutations = filter_all_gaps(permutations)\n",
    "    return permutations"
   ]
  },
  {
   "cell_type": "markdown",
   "metadata": {},
   "source": [
    "### Algorithm"
   ]
  },
  {
   "cell_type": "code",
   "execution_count": 91,
   "metadata": {},
   "outputs": [],
   "source": [
    "import numpy as np\n",
    "\n",
    "def align_dynamic_generic2(seqs, verbose=False):\n",
    "    \n",
    "    if verbose:\n",
    "        print(f\"Aligning the following sequences: {seqs}\")\n",
    "    \n",
    "    # final alignment idx (where solution will be)\n",
    "    result_idx = tuple([len(s) for s in seqs])\n",
    "    \n",
    "    # initializing matrices\n",
    "    shape = tuple([len(s) + 1 for s in seqs])\n",
    "    scores = np.zeros(shape=shape) # score matrix\n",
    "    aligned = {}  # alignment matrix\n",
    "    \n",
    "    it = np.nditer(scores, flags=['multi_index']) \n",
    "    \n",
    "    # iterarating over multi-dimensional matrix\n",
    "    for score in it:\n",
    "        idxs = it.multi_index\n",
    "        \n",
    "        # 'n' is boilerplate for nucleotide, indicating not a gap\n",
    "        chars = ['n']*len(seqs)\n",
    "\n",
    "        # finding all nucleotide and gap permutations\n",
    "        permutations = get_permutations(chars, n=len(seqs))\n",
    "        aligned_scores = []\n",
    "        aligned_possibilities = []\n",
    "\n",
    "        # scoring and aligning all different permutations\n",
    "        for p in permutations:\n",
    "            \n",
    "            # figure out indexes to look back in table\n",
    "            look_idxs = []\n",
    "            for numb in range(len(p)):\n",
    "                \n",
    "                # get nucleotide from i-1 (insert nucleotide)\n",
    "                if p[numb] == 'n':\n",
    "                    look_idxs.append(idxs[numb] - 1 if idxs[numb] > 1 else 0)\n",
    "                    \n",
    "                # get nucleotide from i (insert gap)\n",
    "                else:\n",
    "                    look_idxs.append(idxs[numb])\n",
    "            \n",
    "            # convert to tuple for indexing \n",
    "            look_idxs = tuple(look_idxs)\n",
    "            \n",
    "            # getting initial look back starting alignment\n",
    "            try:\n",
    "                opt = list(aligned[look_idxs])\n",
    "            except KeyError:\n",
    "                aligned[look_idxs] = [\"\" for i in range(len(seqs))]\n",
    "                opt = list(aligned[look_idxs])\n",
    "            \n",
    "            alignment = []\n",
    "            \n",
    "            # appending new characters to alignment\n",
    "            for numb in range(len(look_idxs)):\n",
    "                # gap\n",
    "                if look_idxs[numb] == idxs[numb]:\n",
    "                    opt[numb] += '-'\n",
    "                    alignment.append('-')\n",
    "                \n",
    "                # nucleotide\n",
    "                else: \n",
    "                    opt[numb] += seqs[numb][look_idxs[numb]]\n",
    "                    alignment.append(seqs[numb][look_idxs[numb]])\n",
    "            \n",
    "            # getting initial score\n",
    "            score = scores[look_idxs]\n",
    "    \n",
    "            # scoring new alignment characters\n",
    "            score += score_alignment(alignment)\n",
    "\n",
    "            aligned_possibilities.append(opt)\n",
    "            aligned_scores.append(score)\n",
    "            \n",
    "            if verbose:\n",
    "                print(f\"idxs: {idxs}\\np: {p}\\nlook_idxs: {look_idxs}\\n\\n\")\n",
    "\n",
    "        max_score = max(aligned_scores)\n",
    "        scores[idxs] = max_score\n",
    "        \n",
    "        # tie-breaking of same scores (priorizes nucleotides over gaps)\n",
    "        max_score_idxs = {}\n",
    "        for numb in range(len(aligned_scores)):\n",
    "            if aligned_scores[numb] == max_score:\n",
    "                c_count = 0\n",
    "                for aligned_seq in aligned_possibilities[numb]:\n",
    "                    for c in aligned_seq:\n",
    "                        if c != '-':\n",
    "                            c_count += 1\n",
    "                max_score_idxs[numb] = c_count\n",
    "        chosen_idx = max(max_score_idxs, key=max_score_idxs.get)\n",
    "        \n",
    "        chosen_aligned = aligned_possibilities[chosen_idx]\n",
    "        aligned[idxs] = chosen_aligned\n",
    "        \n",
    "        if verbose:\n",
    "            print(aligned_possibilities, aligned_scores)\n",
    "            print(f\"chosen aligned: {aligned[idxs]}, chosen score: {scores[idxs]}\")\n",
    "            print(f\"aligned matrix: {aligned}\")\n",
    "            print(f\"score matrix: {scores}\")\n",
    "            print()\n",
    "    \n",
    "    # removing trailing dashes from final alignment\n",
    "    final_alignment = [s[1:] for s in aligned[result_idx]]\n",
    "    final_score = scores[result_idx]\n",
    "    \n",
    "    return final_score, final_alignment"
   ]
  },
  {
   "cell_type": "code",
   "execution_count": 92,
   "metadata": {},
   "outputs": [
    {
     "data": {
      "text/plain": [
       "(2.0, ['A-T', 'AGT'])"
      ]
     },
     "execution_count": 92,
     "metadata": {},
     "output_type": "execute_result"
    }
   ],
   "source": [
    "align_dynamic_generic2(['AT', 'AGT'], verbose=False)"
   ]
  },
  {
   "cell_type": "code",
   "execution_count": 93,
   "metadata": {},
   "outputs": [
    {
     "data": {
      "text/plain": [
       "(5.0, ['A-T--', 'AGT--', 'AGTCG'])"
      ]
     },
     "execution_count": 93,
     "metadata": {},
     "output_type": "execute_result"
    }
   ],
   "source": [
    "align_dynamic_generic2(['AT', 'AGT', 'AGTCG'], verbose=False)"
   ]
  },
  {
   "cell_type": "code",
   "execution_count": 94,
   "metadata": {},
   "outputs": [
    {
     "data": {
      "text/plain": [
       "(1.0, ['-A', '-A', 'GT'])"
      ]
     },
     "execution_count": 94,
     "metadata": {},
     "output_type": "execute_result"
    }
   ],
   "source": [
    "align_dynamic_generic2(['A', 'A', 'GT'], verbose=False)"
   ]
  },
  {
   "cell_type": "code",
   "execution_count": 95,
   "metadata": {},
   "outputs": [
    {
     "data": {
      "text/plain": [
       "(7.0, ['A-T--', 'AGT--', 'AGTCG', '-GT--'])"
      ]
     },
     "execution_count": 95,
     "metadata": {},
     "output_type": "execute_result"
    }
   ],
   "source": [
    "align_dynamic_generic2(['AT', 'AGT', 'AGTCG', 'GT'], verbose=False)"
   ]
  },
  {
   "cell_type": "code",
   "execution_count": 96,
   "metadata": {},
   "outputs": [
    {
     "data": {
      "text/plain": [
       "(9.0, ['A-T--', 'AGT--', 'AGTCG', '---CG', '-GT--'])"
      ]
     },
     "execution_count": 96,
     "metadata": {},
     "output_type": "execute_result"
    }
   ],
   "source": [
    "align_dynamic_generic2(['AT', 'AGT', 'AGTCG', 'CG', 'GT'], verbose=False)"
   ]
  },
  {
   "cell_type": "markdown",
   "metadata": {
    "jp-MarkdownHeadingCollapsed": true,
    "tags": []
   },
   "source": [
    "### Old Approaches (Archive Reasons)"
   ]
  },
  {
   "cell_type": "code",
   "execution_count": 8,
   "metadata": {},
   "outputs": [],
   "source": [
    "# 3 Sequences Alignment"
   ]
  },
  {
   "cell_type": "markdown",
   "metadata": {},
   "source": [
    "<img src=\"https://bioinformaticsalgorithms.com/images/Alignment/multiple_alignment_recurrence.png\" width=500>"
   ]
  },
  {
   "cell_type": "code",
   "execution_count": 9,
   "metadata": {},
   "outputs": [],
   "source": [
    "# hardcoded 3D alignment\n",
    "def align_dynamic(seqs, verbose=False):\n",
    "    s1 = seqs[0]\n",
    "    s2 = seqs[1]\n",
    "    s3 = seqs[2]\n",
    "    scores = []\n",
    "    aligned = []\n",
    "    for i in range(len(s1)+1):\n",
    "        i_score = []\n",
    "        i_aligned = []\n",
    "        for j in range(len(s2)+1):\n",
    "            j_score = []\n",
    "            j_aligned = []\n",
    "            for k in range(len(s3)+1):\n",
    "                j_score.append(0)\n",
    "                j_aligned.append((\"\", \"\", \"\"))\n",
    "            i_score.append(j_score)\n",
    "            i_aligned.append(j_aligned)\n",
    "        scores.append(i_score)\n",
    "        aligned.append(i_aligned)\n",
    "        \n",
    "    for i in range(1,len(s1)+1):\n",
    "        for j in range(1,len(s2)+1):\n",
    "            for k in range(1,len(s3)+1):\n",
    "                # 1: si-1, j, k + score(vi, -, -)\n",
    "                opt1_s1 = aligned[i-1][j][k][0] \n",
    "                opt1_s2 = aligned[i-1][j][k][1] \n",
    "                opt1_s3 = aligned[i-1][j][k][2]\n",
    "                score1 = scores[i-1][j][k]\n",
    "                opt1_aligned = (opt1_s1 + s1[i-1], opt1_s2 + '-',  opt1_s3 + '-')\n",
    "                \n",
    "                # 2: si, j-1, k + score(-, wj, -)\n",
    "                opt2_s1 = aligned[i][j-1][k][0] \n",
    "                opt2_s2 = aligned[i][j-1][k][1] \n",
    "                opt2_s3 = aligned[i][j-1][k][2]\n",
    "                score2 = scores[i][j-1][k]\n",
    "                opt2_aligned = (opt2_s1 + '-', opt2_s2 + s2[j-1],  opt2_s3 + '-')\n",
    "                \n",
    "                # 3: si, j, k-1 + score(-, -, uk)\n",
    "                opt3_s1 = aligned[i][j][k-1][0] \n",
    "                opt3_s2 = aligned[i][j][k-1][1] \n",
    "                opt3_s3 = aligned[i][j][k-1][2]\n",
    "                score3 = scores[i][j][k-1]\n",
    "                opt3_aligned = (opt3_s1 + '-', opt3_s2 + '-',  opt3_s3 + s3[k-1])\n",
    "                \n",
    "                # 4:  si-1, j-1, k + score(vi, wj, -)\n",
    "                opt4_s1 = aligned[i-1][j-1][k][0] \n",
    "                opt4_s2 = aligned[i-1][j-1][k][1] \n",
    "                opt4_s3 = aligned[i-1][j-1][k][2]\n",
    "                score4 = scores[i-1][j-1][k]\n",
    "                if s1[i-1] == s2[j-1]:\n",
    "                    score4 += 1 \n",
    "                opt4_aligned = (opt4_s1 + s1[i-1], opt4_s2 + s2[j-1],  opt4_s3 + '-')\n",
    "                \n",
    "                # 5: si-1, j, k-1 + score(vi, -, uk)\n",
    "                opt5_s1 = aligned[i-1][j][k-1][0] \n",
    "                opt5_s2 = aligned[i-1][j][k-1][1] \n",
    "                opt5_s3 = aligned[i-1][j][k-1][2]\n",
    "                score5 = scores[i-1][j][k-1]\n",
    "                if s1[i-1] == s3[k-1]:\n",
    "                    score5 += 1\n",
    "                opt5_aligned = (opt5_s1 + s1[i-1], opt5_s2 + '-',  opt5_s3 + s3[k-1])\n",
    "                \n",
    "                # 6: si, j-1, k-1 + score(-, wj, uk)\n",
    "                opt6_s1 = aligned[i][j-1][k-1][0] \n",
    "                opt6_s2 = aligned[i][j-1][k-1][1] \n",
    "                opt6_s3 = aligned[i][j-1][k-1][2]\n",
    "                score6 = scores[i][j-1][k-1]\n",
    "                if s2[j-1] == s3[k-1]:\n",
    "                    score6 += 1\n",
    "                opt6_aligned = (opt6_s1 + '-', opt6_s2 + s2[j-1],  opt6_s3 + s3[k-1])\n",
    "                \n",
    "                # 7: si-1, j-1, k-1 + score(vi, wj, uk)\n",
    "                opt7_s1 = aligned[i-1][j-1][k-1][0] \n",
    "                opt7_s2 = aligned[i-1][j-1][k-1][1] \n",
    "                opt7_s3 = aligned[i-1][j-1][k-1][2]\n",
    "                score7 = scores[i-1][j-1][k-1]\n",
    "                if s1[i-1] == s2[j-1] and s2[j-1] == s3[k-1]:\n",
    "                    score7 += 2\n",
    "                elif s1[i-1] == s2[j-1] or s2[j-1] == s3[k-1] or s3[k-1]:\n",
    "                    score7 += 1\n",
    "                    \n",
    "                opt7_aligned = (opt7_s1 + s1[i-1], opt7_s2 + s2[j-1],  opt7_s3 + s3[k-1])\n",
    "                \n",
    "                all_scores = [score1, score2, score3, score4, score5, score6, score7]\n",
    "                max_score = max(all_scores)\n",
    "                scores[i][j][k] = max_score\n",
    "                \n",
    "                if max_score == score1 and opt1_aligned != ('-', '-', '-'):\n",
    "                    aligned[i][j][k] = opt1_aligned\n",
    "                elif max_score == score2 and opt2_aligned != ('-', '-', '-'):\n",
    "                    aligned[i][j][k] = opt2_aligned\n",
    "                elif max_score == score3 and opt3_aligned != ('-', '-', '-'):\n",
    "                    aligned[i][j][k] = opt3_aligned\n",
    "                elif max_score == score4 and opt4_aligned != ('-', '-', '-'):\n",
    "                    aligned[i][j][k] = opt4_aligned\n",
    "                elif max_score == score5 and opt5_aligned != ('-', '-', '-'):\n",
    "                    aligned[i][j][k] = opt5_aligned\n",
    "                elif max_score == score6 and opt6_aligned != ('-', '-', '-'):\n",
    "                    aligned[i][j][k] = opt6_aligned\n",
    "                else:\n",
    "                    aligned[i][j][k] = opt7_aligned\n",
    "                if verbose:\n",
    "                    print(f\"opt1_aligned: {opt1_aligned}\")\n",
    "                    print(f\"opt2_aligned: {opt2_aligned}\")\n",
    "                    print(f\"opt3_aligned: {opt3_aligned}\")\n",
    "                    print(f\"opt4_aligned: {opt4_aligned}\")\n",
    "                    print(f\"opt5_aligned: {opt5_aligned}\")\n",
    "                    print(f\"opt6_aligned: {opt6_aligned}\")\n",
    "                    print(f\"opt7_aligned: {opt7_aligned}\")\n",
    "                    print(f\"chosen aligned: {aligned[i][j][k]}, chosen score: {scores[i][j][k]}\")\n",
    "\n",
    "    return scores[i][j][k], aligned[i][j][k]"
   ]
  },
  {
   "cell_type": "code",
   "execution_count": 10,
   "metadata": {},
   "outputs": [
    {
     "data": {
      "text/plain": [
       "(5, ('A-T--', 'AGT--', 'AGTCG'))"
      ]
     },
     "execution_count": 10,
     "metadata": {},
     "output_type": "execute_result"
    }
   ],
   "source": [
    "# align_dynamic(['ATGTTATA', 'AGCGATCA', 'ATCGTCTC'])\n",
    "align_dynamic(['AT', 'AGT', 'AGTCG'], verbose = False)"
   ]
  },
  {
   "cell_type": "code",
   "execution_count": 11,
   "metadata": {},
   "outputs": [],
   "source": [
    "# use nd_arrays\n",
    "def align_dynamic_generic(seqs, verbose=False):\n",
    "    s1 = seqs[0]\n",
    "    s2 = seqs[1]\n",
    "    s3 = seqs[2]\n",
    "    scores = []\n",
    "    aligned = []\n",
    "    for i in range(len(s1)+1):\n",
    "        i_score = []\n",
    "        i_aligned = []\n",
    "        for j in range(len(s2)+1):\n",
    "            j_score = []\n",
    "            j_aligned = []\n",
    "            for k in range(len(s3)+1):\n",
    "                j_score.append(0)\n",
    "                i_part = \"\"\n",
    "                j_part = \"\"\n",
    "                k_part = \"\"\n",
    "                if i == 0:\n",
    "                    i_part = '-'\n",
    "                if j == 0:\n",
    "                    j_part = '-'\n",
    "                if k == 0:\n",
    "                    k_part = '-'\n",
    "                    \n",
    "                j_aligned.append((i_part, j_part, k_part))\n",
    "            i_score.append(j_score)\n",
    "            i_aligned.append(j_aligned)\n",
    "        scores.append(i_score)\n",
    "        aligned.append(i_aligned)\n",
    "        \n",
    "    for i in range(1,len(s1)+1):\n",
    "        for j in range(1,len(s2)+1):\n",
    "            for k in range(1,len(s3)+1):\n",
    "                # 'n' is boilerplate for nucleotide, indicating not a gap\n",
    "                chars = ['n', 'n', 'n']\n",
    "                \n",
    "                # finding all nucleotide and gap permutations\n",
    "                permutations = [[c] + ['-']*(len(chars)-1) for c in chars]\n",
    "                permutations = [[i, j, k] for i in permutations[0] for j in permutations[1] for k in permutations[2]]\n",
    "                permutations = filter_all_gaps(permutations)\n",
    "                aligned_scores = []\n",
    "                aligned_possibilities = []\n",
    "                    \n",
    "                for p in permutations:\n",
    "                    p_i = p[0]\n",
    "                    p_j = p[1]\n",
    "                    p_k = p[2]\n",
    "                    opt = None\n",
    "                    score = None\n",
    "                    # i-row\n",
    "                    if p_i == 'n':\n",
    "                        opt = aligned[i-1]\n",
    "                        score = scores[i-1]\n",
    "                    else: \n",
    "                        opt = aligned[i]\n",
    "                        score = scores[i]\n",
    "                      \n",
    "                    # j-row\n",
    "                    if p_j == 'n':\n",
    "                        opt = opt[j-1]\n",
    "                        score = score[j-1]\n",
    "                    else: \n",
    "                        opt = opt[j]\n",
    "                        score = score[j]\n",
    "                        \n",
    "                    # k-row\n",
    "                    if p_k == 'n':\n",
    "                        opt = opt[k-1]\n",
    "                        score = score[k-1]\n",
    "                    else: \n",
    "                        opt = opt[k]\n",
    "                        score = score[k]\n",
    "                        \n",
    "                    if opt == ('-', '-', '-'):\n",
    "                        opt = ('', '', '')\n",
    "                        \n",
    "                    opt_i = opt[0] + s1[i-1] if p_i != '-' else opt[0] + p_i\n",
    "                    opt_j = opt[1] + s2[j-1] if p_j != '-' else opt[1] + p_j\n",
    "                    opt_k = opt[2] + s3[k-1] if p_k != '-' else opt[2] + p_k\n",
    "                    \n",
    "                    alignment = [opt_i[-1], opt_j[-1], opt_k[-1]]\n",
    "                    score += score_alignment(alignment)\n",
    "                    \n",
    "                    aligned_possibilities.append([opt_i, opt_j, opt_k])\n",
    "                    aligned_scores.append(score)\n",
    "                \n",
    "                max_score = max(aligned_scores)\n",
    "                scores[i][j][k] = max_score\n",
    "                chosen_aligned = aligned_possibilities[aligned_scores.index(max_score)]\n",
    "                aligned[i][j][k] = chosen_aligned\n",
    "                if verbose:\n",
    "                    print(aligned_possibilities, aligned_scores)\n",
    "                    print(f\"chosen aligned: {aligned[i][j][k]}, chosen score: {scores[i][j][k]}\")\n",
    "                    print()\n",
    "                    \n",
    "    return scores[i][j][k], aligned[i][j][k]"
   ]
  },
  {
   "cell_type": "code",
   "execution_count": 12,
   "metadata": {},
   "outputs": [
    {
     "data": {
      "text/plain": [
       "(5, ['A-T--', 'AGT--', 'AGTCG'])"
      ]
     },
     "execution_count": 12,
     "metadata": {},
     "output_type": "execute_result"
    }
   ],
   "source": [
    "align_dynamic_generic(['AT', 'AGT', 'AGTCG'], verbose=False)"
   ]
  }
 ],
 "metadata": {
  "kernelspec": {
   "display_name": "Python 3",
   "language": "python",
   "name": "python3"
  },
  "language_info": {
   "codemirror_mode": {
    "name": "ipython",
    "version": 3
   },
   "file_extension": ".py",
   "mimetype": "text/x-python",
   "name": "python",
   "nbconvert_exporter": "python",
   "pygments_lexer": "ipython3",
   "version": "3.7.3"
  }
 },
 "nbformat": 4,
 "nbformat_minor": 4
}
