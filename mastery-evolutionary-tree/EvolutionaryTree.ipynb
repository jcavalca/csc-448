{
 "cells": [
  {
   "cell_type": "markdown",
   "metadata": {
    "tags": []
   },
   "source": [
    "## Evolutionary Tree Mastery Checkpoint - Joao Cavalcanti"
   ]
  },
  {
   "cell_type": "markdown",
   "metadata": {},
   "source": [
    "This notebook provides implementation for UPGMA, Neighbor Joining and Small Parsimony algorithms for constructing evolutionary trees. The test cases consists of a distance matrix given in lecture and Rosalind textbook along with screenshots from the book of the expected results for each algorithm. "
   ]
  },
  {
   "cell_type": "markdown",
   "metadata": {
    "tags": []
   },
   "source": [
    "### Setup"
   ]
  },
  {
   "cell_type": "code",
   "execution_count": 51,
   "metadata": {},
   "outputs": [
    {
     "name": "stdout",
     "output_type": "stream",
     "text": [
      "The autoreload extension is already loaded. To reload it, use:\n",
      "  %reload_ext autoreload\n"
     ]
    }
   ],
   "source": [
    "%load_ext autoreload\n",
    "%autoreload 2\n",
    "\n",
    "import networkx as nx\n",
    "import pandas as pd\n",
    "import os.path\n",
    "import copy\n",
    "import numpy as np\n",
    "import Assignment7_helper"
   ]
  },
  {
   "cell_type": "markdown",
   "metadata": {},
   "source": [
    "Test Case - Given in Rosalind Textbook"
   ]
  },
  {
   "cell_type": "code",
   "execution_count": 52,
   "metadata": {},
   "outputs": [
    {
     "name": "stdout",
     "output_type": "stream",
     "text": [
      "Opening ../csc-448-student/data/coronavirus_distance_matrix_additive.txt\n"
     ]
    },
    {
     "data": {
      "text/html": [
       "<div>\n",
       "<style scoped>\n",
       "    .dataframe tbody tr th:only-of-type {\n",
       "        vertical-align: middle;\n",
       "    }\n",
       "\n",
       "    .dataframe tbody tr th {\n",
       "        vertical-align: top;\n",
       "    }\n",
       "\n",
       "    .dataframe thead th {\n",
       "        text-align: right;\n",
       "    }\n",
       "</style>\n",
       "<table border=\"1\" class=\"dataframe\">\n",
       "  <thead>\n",
       "    <tr style=\"text-align: right;\">\n",
       "      <th></th>\n",
       "      <th>Cow</th>\n",
       "      <th>Pig</th>\n",
       "      <th>Horse</th>\n",
       "      <th>Mouse</th>\n",
       "      <th>Dog</th>\n",
       "      <th>Cat</th>\n",
       "      <th>Turkey</th>\n",
       "      <th>Civet</th>\n",
       "      <th>Human</th>\n",
       "    </tr>\n",
       "  </thead>\n",
       "  <tbody>\n",
       "    <tr>\n",
       "      <th>Cow</th>\n",
       "      <td>0</td>\n",
       "      <td>295</td>\n",
       "      <td>306</td>\n",
       "      <td>497</td>\n",
       "      <td>1081</td>\n",
       "      <td>1091</td>\n",
       "      <td>1003</td>\n",
       "      <td>956</td>\n",
       "      <td>954</td>\n",
       "    </tr>\n",
       "    <tr>\n",
       "      <th>Pig</th>\n",
       "      <td>295</td>\n",
       "      <td>0</td>\n",
       "      <td>309</td>\n",
       "      <td>500</td>\n",
       "      <td>1084</td>\n",
       "      <td>1094</td>\n",
       "      <td>1006</td>\n",
       "      <td>959</td>\n",
       "      <td>957</td>\n",
       "    </tr>\n",
       "    <tr>\n",
       "      <th>Horse</th>\n",
       "      <td>306</td>\n",
       "      <td>309</td>\n",
       "      <td>0</td>\n",
       "      <td>489</td>\n",
       "      <td>1073</td>\n",
       "      <td>1083</td>\n",
       "      <td>995</td>\n",
       "      <td>948</td>\n",
       "      <td>946</td>\n",
       "    </tr>\n",
       "    <tr>\n",
       "      <th>Mouse</th>\n",
       "      <td>497</td>\n",
       "      <td>500</td>\n",
       "      <td>489</td>\n",
       "      <td>0</td>\n",
       "      <td>1092</td>\n",
       "      <td>1102</td>\n",
       "      <td>1014</td>\n",
       "      <td>967</td>\n",
       "      <td>965</td>\n",
       "    </tr>\n",
       "    <tr>\n",
       "      <th>Dog</th>\n",
       "      <td>1081</td>\n",
       "      <td>1084</td>\n",
       "      <td>1073</td>\n",
       "      <td>1092</td>\n",
       "      <td>0</td>\n",
       "      <td>818</td>\n",
       "      <td>1056</td>\n",
       "      <td>1053</td>\n",
       "      <td>1051</td>\n",
       "    </tr>\n",
       "    <tr>\n",
       "      <th>Cat</th>\n",
       "      <td>1091</td>\n",
       "      <td>1094</td>\n",
       "      <td>1083</td>\n",
       "      <td>1102</td>\n",
       "      <td>818</td>\n",
       "      <td>0</td>\n",
       "      <td>1066</td>\n",
       "      <td>1063</td>\n",
       "      <td>1061</td>\n",
       "    </tr>\n",
       "    <tr>\n",
       "      <th>Turkey</th>\n",
       "      <td>1003</td>\n",
       "      <td>1006</td>\n",
       "      <td>995</td>\n",
       "      <td>1014</td>\n",
       "      <td>1056</td>\n",
       "      <td>1066</td>\n",
       "      <td>0</td>\n",
       "      <td>975</td>\n",
       "      <td>973</td>\n",
       "    </tr>\n",
       "    <tr>\n",
       "      <th>Civet</th>\n",
       "      <td>956</td>\n",
       "      <td>959</td>\n",
       "      <td>948</td>\n",
       "      <td>967</td>\n",
       "      <td>1053</td>\n",
       "      <td>1063</td>\n",
       "      <td>975</td>\n",
       "      <td>0</td>\n",
       "      <td>16</td>\n",
       "    </tr>\n",
       "    <tr>\n",
       "      <th>Human</th>\n",
       "      <td>954</td>\n",
       "      <td>957</td>\n",
       "      <td>946</td>\n",
       "      <td>965</td>\n",
       "      <td>1051</td>\n",
       "      <td>1061</td>\n",
       "      <td>973</td>\n",
       "      <td>16</td>\n",
       "      <td>0</td>\n",
       "    </tr>\n",
       "  </tbody>\n",
       "</table>\n",
       "</div>"
      ],
      "text/plain": [
       "         Cow   Pig  Horse  Mouse   Dog   Cat  Turkey  Civet  Human\n",
       "Cow        0   295    306    497  1081  1091    1003    956    954\n",
       "Pig      295     0    309    500  1084  1094    1006    959    957\n",
       "Horse    306   309      0    489  1073  1083     995    948    946\n",
       "Mouse    497   500    489      0  1092  1102    1014    967    965\n",
       "Dog     1081  1084   1073   1092     0   818    1056   1053   1051\n",
       "Cat     1091  1094   1083   1102   818     0    1066   1063   1061\n",
       "Turkey  1003  1006    995   1014  1056  1066       0    975    973\n",
       "Civet    956   959    948    967  1053  1063     975      0     16\n",
       "Human    954   957    946    965  1051  1061     973     16      0"
      ]
     },
     "execution_count": 52,
     "metadata": {},
     "output_type": "execute_result"
    }
   ],
   "source": [
    "file = None\n",
    "locations = ['../data/coronavirus_distance_matrix_additive.txt','../csc-448-student/data/coronavirus_distance_matrix_additive.txt']\n",
    "for f in locations:\n",
    "    if os.path.isfile(f):\n",
    "        file = f\n",
    "        break\n",
    "print('Opening',file)\n",
    "D_sars = pd.read_csv(file,index_col=0)\n",
    "D_sars"
   ]
  },
  {
   "cell_type": "code",
   "execution_count": 53,
   "metadata": {},
   "outputs": [],
   "source": [
    "def show(T, labels=False):\n",
    "    T = copy.deepcopy(T)\n",
    "    pos=nx.spring_layout(T)\n",
    "    nx.draw(T,pos,with_labels=True)\n",
    "    if labels:\n",
    "        nx.draw_networkx_labels(T, pos=pos)  \n",
    "\n",
    "def show_with_weight(T):\n",
    "    T = copy.deepcopy(T)\n",
    "    labels = nx.get_edge_attributes(T,'weight')\n",
    "    max_value = 0\n",
    "    for n1,n2 in T.edges():\n",
    "        if T[n1][n2]['weight'] > max_value:\n",
    "            max_value = T[n1][n2]['weight']\n",
    "    for n1,n2 in T.edges():\n",
    "        T[n1][n2]['weight']=max_value - T[n1][n2]['weight'] + 3\n",
    "    pos=nx.spring_layout(T)\n",
    "    nx.draw(T,pos,with_labels=True)\n",
    "    nx.draw_networkx_edge_labels(T,pos,edge_labels=labels);\n",
    "        "
   ]
  },
  {
   "cell_type": "markdown",
   "metadata": {
    "tags": []
   },
   "source": [
    "### UPGMA"
   ]
  },
  {
   "cell_type": "code",
   "execution_count": 54,
   "metadata": {},
   "outputs": [],
   "source": [
    "# UPGMA(D, n)\n",
    "# Clusters n single-element clusters labeled 1, . . . , n\n",
    "# construct a graph T with n isolated nodes labeled by single elements 1, . . . , n \n",
    "# for every node v in T\n",
    "#   AGE(v) = 0\n",
    "# while there is more than one cluster\n",
    "#   find the two closest clusters Ci and Cj (break ties arbitrarily)\n",
    "#   merge Ci and Cj into a new cluster Cnew with |Ci| + |Cj| elements\n",
    "#   add a new node labeled by cluster Cnew to T\n",
    "#   connect node Cnew to Ci and Cj by directed edges\n",
    "#   AGE(C) =  DCi,Cj /2\n",
    "#   remove the rows and columns of D corresponding to Ci and Cj\n",
    "#   remove Ci and Cj from Clusters\n",
    "#   add a row/column to D for Cnew by computing D(Cnew, C) for each C in Clusters add Cnew to Clusters\n",
    "# root = the node in T corresponding to the remaining cluster \n",
    "# for each edge (v, w) in T\n",
    "#   length of (v,w) = AGE(v) - AGE(w) \n",
    "# return T"
   ]
  },
  {
   "cell_type": "code",
   "execution_count": 55,
   "metadata": {},
   "outputs": [],
   "source": [
    "def get_minimum_value(df):\n",
    "    minimum_distance = np.Inf\n",
    "    n1 = None\n",
    "    n2 = None\n",
    "    for row_name, row in df.iterrows():\n",
    "        for column_name, distance in row.items():\n",
    "            if distance != 0 and distance < minimum_distance:\n",
    "                n1 = row_name\n",
    "                n2 = column_name\n",
    "                minimum_distance = distance\n",
    "    return minimum_distance, n1, n2\n",
    "\n",
    "def combine_2_columns(df, c1_name, c2_name, new_node):\n",
    "    new_c = str(c1_name) + ', ' + str(c2_name)\n",
    "    c1 = df[c1_name]\n",
    "    c2 = df[c2_name]\n",
    "    \n",
    "    # new cluster\n",
    "    new_c = ((df[c1_name] + df[c2_name])/2).drop(c1_name).drop(c2_name)\n",
    "    \n",
    "    # dropping old clusters\n",
    "    df = df.drop(c1_name, axis=0).drop(c1_name, axis=1)\n",
    "    df = df.drop(c2_name, axis=0).drop(c2_name, axis=1)\n",
    "    \n",
    "    # adding new cluster\n",
    "    df[new_node] = new_c\n",
    "    df.loc[new_node] = new_c\n",
    "    \n",
    "    return df"
   ]
  },
  {
   "cell_type": "code",
   "execution_count": 56,
   "metadata": {},
   "outputs": [
    {
     "data": {
      "image/png": "[encoded data removed]",
      "text/plain": [
       "<Figure size 432x288 with 1 Axes>"
      ]
     },
     "metadata": {},
     "output_type": "display_data"
    }
   ],
   "source": [
    "def UPGMA(D, verbose=False):\n",
    "    num_clusters = len(D.index)\n",
    "    T = nx.Graph()\n",
    "    for i in D.index:\n",
    "        T.add_node(i)\n",
    "    while num_clusters != 1:\n",
    "        if verbose:\n",
    "            print(D)\n",
    "        \n",
    "        # finding 2 nearest clusters\n",
    "        minimum_distance, n1, n2 = get_minimum_value(D)\n",
    "        \n",
    "        # combining them into new cluster\n",
    "        new_node = minimum_distance/2\n",
    "        T.add_node(new_node)\n",
    "        T.add_edge(new_node, n1)\n",
    "        T.add_edge(new_node, n2)\n",
    "        \n",
    "        # adding new cluster to table\n",
    "        D = combine_2_columns(D, n1, n2, new_node)\n",
    "        \n",
    "        # remove 2 and add 1 cluster\n",
    "        num_clusters -= 1\n",
    "        \n",
    "        if verbose:\n",
    "            print(f\"minimum_distance: {minimum_distance}, n1, n2\")\n",
    "    \n",
    "    return T\n",
    "\n",
    "show(UPGMA(D_sars, verbose=False))"
   ]
  },
  {
   "cell_type": "code",
   "execution_count": 57,
   "metadata": {},
   "outputs": [],
   "source": [
    "# Expected UPGMA"
   ]
  },
  {
   "cell_type": "markdown",
   "metadata": {},
   "source": [
    "<img src=\"./upgma.png\" size=500>"
   ]
  },
  {
   "cell_type": "markdown",
   "metadata": {
    "tags": []
   },
   "source": [
    "### Neighbor Joining"
   ]
  },
  {
   "cell_type": "code",
   "execution_count": 58,
   "metadata": {},
   "outputs": [],
   "source": [
    "# NEIGHBORJOINING(D, n) \n",
    "# if n = 2\n",
    "#   T the tree consisting of a single edge of length D1,2\n",
    "#   return T\n",
    "# D* = the neighbor-joining matrix constructed from the distance matrix D \n",
    "# find elements i and j such that D⇤i,j is a minimum non-diagonal element of D\n",
    "# delta = (TOTALDISTANCED(i) - TOTALDISTANCED(j))/(n - 2)\n",
    "# limbLengthi = 1/2 (Di,j + delta)\n",
    "# limbLengthj = 1/2 (Di,j - delta)\n",
    "# add a new row/column m to D so that Dk,m = Dm,k = 1/2 (Dk,i + Dk,j - Di,j)\n",
    "# for any k\n",
    "# remove rows i and j from D\n",
    "# remove columns i and j from D\n",
    "# T = NEIGHBORJOINING(D, n - 1)\n",
    "# add two new limbs (connecting node m with leaves i and j) to the tree T \n",
    "# assign length limbLengthi to LIMB(i)\n",
    "# assign length limbLengthj to LIMB(j)\n",
    "# return T"
   ]
  },
  {
   "cell_type": "code",
   "execution_count": 59,
   "metadata": {},
   "outputs": [],
   "source": [
    "def find_minimum_non_diagonal_element(D):\n",
    "    minimum = np.Inf\n",
    "    minimum_i = None\n",
    "    minimum_j = None\n",
    "    for i in D.index:\n",
    "        for j in D.columns:\n",
    "            if i != j and D.loc[i, j] <= minimum:\n",
    "                minimum = D.loc[i, j]\n",
    "                minimum_i = i\n",
    "                minimum_j = j\n",
    "    return minimum_i, minimum_j"
   ]
  },
  {
   "cell_type": "code",
   "execution_count": 60,
   "metadata": {},
   "outputs": [],
   "source": [
    "def NEIGHBORJOINING_helper(D, verbose=False):\n",
    "    D= D.copy()\n",
    "    n = len(D.index)\n",
    "    \n",
    "    # base case\n",
    "    if n == 2:\n",
    "        T = nx.Graph()\n",
    "        T.add_edge(D.index[0], D.index[1], weight=D[D.index[0]][-1])\n",
    "        return T\n",
    "    \n",
    "    # D*\n",
    "    D_star = D.copy()\n",
    "    for i in D.index:\n",
    "        for j in D.columns:\n",
    "            if i != j:\n",
    "                D_star.loc[i, j] = (n-2)*D.loc[i, j] - D[i].sum() - D[j].sum() \n",
    "            else:\n",
    "                D_star.loc[i, j] = 0\n",
    "    \n",
    "    # minimum non diagonal element\n",
    "    i, j = find_minimum_non_diagonal_element(D_star)\n",
    "    \n",
    "    # delta\n",
    "    delta = (D[i].sum() - D[j].sum())/(n-2)\n",
    "    \n",
    "    # limb lengths\n",
    "    limbLengthi = (D.loc[i, j] + delta)/2\n",
    "    limbLengthj = (D.loc[i, j] - delta)/2\n",
    "    \n",
    "    if verbose:\n",
    "        print(f\"\\ni: {i}, limbLengthi: {limbLengthi}\")\n",
    "        print(f\"j: {j}, limbLengthj: {limbLengthj}\")\n",
    "        \n",
    "    \n",
    "    # add a new row/column m to D\n",
    "    m = pd.Series(dtype='float64')\n",
    "    m_name = i + ',' + j\n",
    "    for k in D.index:\n",
    "        m[k] = (D.loc[k, i] + D.loc[k, j] - D.loc[i, j])/2\n",
    "    D[m_name] = m\n",
    "    D.loc[m_name] = m\n",
    "    \n",
    "    # remove rows/columns i and j from D\n",
    "    \n",
    "    D = D.drop(i, axis=0).drop(i, axis=1)\n",
    "    D = D.drop(j, axis=0).drop(j, axis=1)\n",
    "    \n",
    "    D.fillna(0, inplace=True)\n",
    "    \n",
    "    # recursive call\n",
    "    T = NEIGHBORJOINING_helper(D, verbose=verbose)\n",
    "    \n",
    "    # add two new limbs (connecting node m with leaves i and j) to the tree T \n",
    "    T.add_edge(m_name, i, weight=limbLengthi)\n",
    "    T.add_edge(m_name, j, weight=limbLengthj)\n",
    "    \n",
    "    return T\n",
    "\n",
    "def NEIGHBORJOINING(D, verbose=False):\n",
    "    T = NEIGHBORJOINING_helper(D, verbose=verbose)\n",
    "    \n",
    "    # renaming internal nodes for visibility\n",
    "    mapping = {}\n",
    "    count = 0\n",
    "    for node in T.nodes():\n",
    "        if ',' in node:\n",
    "            count += 1\n",
    "            mapping[node] = f\"m{count}\"\n",
    "    T = nx.relabel_nodes(T, mapping)\n",
    "    \n",
    "    return T"
   ]
  },
  {
   "cell_type": "code",
   "execution_count": 61,
   "metadata": {},
   "outputs": [
    {
     "data": {
      "image/png": "[encoded data removed]",
      "text/plain": [
       "<Figure size 432x288 with 1 Axes>"
      ]
     },
     "metadata": {},
     "output_type": "display_data"
    }
   ],
   "source": [
    "show_with_weight(NEIGHBORJOINING(D_sars))"
   ]
  },
  {
   "cell_type": "code",
   "execution_count": 62,
   "metadata": {},
   "outputs": [],
   "source": [
    "# Expected Neighbor Joining"
   ]
  },
  {
   "cell_type": "markdown",
   "metadata": {},
   "source": [
    "<img src=\"./neighborjoining.png\" size=500>"
   ]
  },
  {
   "cell_type": "markdown",
   "metadata": {},
   "source": [
    "### Small Parsimony"
   ]
  },
  {
   "cell_type": "code",
   "execution_count": 63,
   "metadata": {},
   "outputs": [],
   "source": [
    "# SMALLPARSIMONY(T, CHARACTER) \n",
    "#  for each node v in tree T\n",
    "#    TAG(v) = 0 \n",
    "#    if v is a leaf\n",
    "#      TAG(v) = 1\n",
    "#      for each symbol k in the alphabet\n",
    "#          if CHARACTER(v) = k \n",
    "#            sk(v) = 0\n",
    "#          else\n",
    "#            sk(v) = inf\n",
    "#  while there exist ripe nodes in T\n",
    "#    v a ripe node in T\n",
    "#    TAG(v) = 1\n",
    "#    for each symbol k in the alphabet\n",
    "#    sk(v) = min {si(DAUGHTER(v)) + di,k} + min{sj(SON(v)) + dj,k}\n",
    "#           all symbols i                   all symbols j\n",
    "#  return min sk (v) all symbols k"
   ]
  },
  {
   "cell_type": "code",
   "execution_count": 64,
   "metadata": {},
   "outputs": [],
   "source": [
    "def get_ripe_nodes(t, tag):\n",
    "    for v in t.nodes():\n",
    "        if t.out_degree(v) != 0 and tag[v] == 0:\n",
    "            children = list(t.successors(v))\n",
    "            if tag[children[0]] == 1 and tag[children[1]] == 1:\n",
    "                return v, children[0], children[1]\n",
    "    return None, None, None"
   ]
  },
  {
   "cell_type": "code",
   "execution_count": 65,
   "metadata": {},
   "outputs": [],
   "source": [
    "def SMALLPARSIMONY(t, character):\n",
    "    tag = {}\n",
    "    alphabet = ['A', 'T', 'C', 'G']\n",
    "    s = {}\n",
    "    # creating matrix\n",
    "    for v in t.nodes():\n",
    "        s[v] = {}\n",
    "        for k in alphabet:\n",
    "            s[v][k] = 0\n",
    "    \n",
    "    # initiating tree with base conditions\n",
    "    for v in t.nodes():\n",
    "        tag[v] = 0\n",
    "        \n",
    "        # leaf node\n",
    "        if t.out_degree(v) == 0:\n",
    "            tag[v] = 1\n",
    "            for k in alphabet:\n",
    "                if character[v] == k:\n",
    "                    s[v][k] = 0\n",
    "                else:\n",
    "                    s[v][k] = np.Inf\n",
    "                    \n",
    "    ripe_node, daughter_node, son_node = get_ripe_nodes(t, tag)\n",
    "    \n",
    "    # while there are still ripe nodes\n",
    "    while ripe_node:\n",
    "        tag[ripe_node] = 1\n",
    "        for k in alphabet:\n",
    "            minimum = np.Inf\n",
    "            for i in alphabet:\n",
    "                for j in alphabet:\n",
    "                    daughter = s[daughter_node][i] + 1 if i == k else s[daughter][i]\n",
    "                    son = s[son_node][j] + 1 if j == k else s[son_node][j]\n",
    "                    score = daughter + son \n",
    "                    if score < minimum:\n",
    "                        minimum = score\n",
    "            s[v][k] = score\n",
    "        ripe_node, daughter_node, son_node = get_ripe_nodes(t, tag)\n",
    "    \n",
    "    # return root's minimum\n",
    "    return min(s['root'].values())"
   ]
  },
  {
   "cell_type": "markdown",
   "metadata": {},
   "source": [
    "### Comparison"
   ]
  },
  {
   "cell_type": "markdown",
   "metadata": {},
   "source": [
    "* The small parsimony algorithm relies on a dynamic programming approach to find the lowest weighted tree when already given an evolutionary tree. Even though small parsimony requires a tree as an input, this algorithm is important because it is a better grounded method of comparing organisms based on nucleotide differences (mutations) to construct a phylogeny when compared to older methods that relied on anatomical characteristics.\n",
    "* UPGMA and Neighbor Joining, however, do create an evolutionary tree when given a distance matrix. The most noticeable distinction is that the former labels limb nodes (speciaziation events) with distances, while the latter labels the edges with distances. The benefit of UPGMA is that is also able to analyze non-additive matrices as opposed to the Additive Phylogeny and Neighbor Joining algorithms. "
   ]
  }
 ],
 "metadata": {
  "kernelspec": {
   "display_name": "Python 3",
   "language": "python",
   "name": "python3"
  },
  "language_info": {
   "codemirror_mode": {
    "name": "ipython",
    "version": 3
   },
   "file_extension": ".py",
   "mimetype": "text/x-python",
   "name": "python",
   "nbconvert_exporter": "python",
   "pygments_lexer": "ipython3",
   "version": "3.7.3"
  }
 },
 "nbformat": 4,
 "nbformat_minor": 4
}
