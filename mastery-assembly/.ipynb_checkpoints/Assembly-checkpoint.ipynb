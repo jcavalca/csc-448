{
 "cells": [
  {
   "cell_type": "code",
   "execution_count": 6,
   "metadata": {},
   "outputs": [
    {
     "name": "stdout",
     "output_type": "stream",
     "text": [
      "The autoreload extension is already loaded. To reload it, use:\n",
      "  %reload_ext autoreload\n"
     ]
    }
   ],
   "source": [
    "%load_ext autoreload\n",
    "%autoreload 2\n",
    "\n",
    "import Assignment3_helper as helper"
   ]
  },
  {
   "cell_type": "code",
   "execution_count": 24,
   "metadata": {},
   "outputs": [],
   "source": [
    "# MaximalNonBranchingPaths(G)\n",
    "#     P ← empty set\n",
    "#     for each node v in graph G\n",
    "#         if node v is not a 1-in-1-out node\n",
    "#             if Out(v) > 0\n",
    "#                 for each outgoing edge (v, w) from node v\n",
    "#                     p ← the path consisting of the single edge (v, w)\n",
    "#                     while node w is a 1-in-1-out node\n",
    "#                         extend path p by the outgoing edge (w, u) from node w \n",
    "#                         w ← u\n",
    "#                     add path p to the set P\n",
    "#     for each isolated cycle c in graph G\n",
    "#         add cycle c to the set P\n",
    "#     return the set P"
   ]
  },
  {
   "cell_type": "code",
   "execution_count": 30,
   "metadata": {},
   "outputs": [
    {
     "data": {
      "text/plain": [
       "'AGA ATG ATG CAT GAT TGGA TGT'"
      ]
     },
     "execution_count": 30,
     "metadata": {},
     "output_type": "execute_result"
    },
    {
     "data": {
      "image/png": "[encoded data removed]",
      "text/plain": [
       "<Figure size 432x288 with 1 Axes>"
      ]
     },
     "metadata": {},
     "output_type": "display_data"
    }
   ],
   "source": [
    "def maximal_nonbranching_paths(kmers):\n",
    "    # construct dB Graph\n",
    "    dB = helper.de_bruijn(kmers)\n",
    "    helper.show(dB)\n",
    "    \n",
    "    # calculate in and out degrees\n",
    "    in_out_table = helper.calc_in_out(dB)\n",
    "    \n",
    "    # get neighbors to traverse graph\n",
    "    neighbors = {}\n",
    "    for u, v in dB.edges():\n",
    "        if u not in neighbors:\n",
    "            neighbors[u] = []\n",
    "        neighbors[u].append(v)\n",
    "    \n",
    "    nonbranching_paths = []\n",
    "    for node in dB:\n",
    "        in_degree = in_out_table.loc[node]['in']\n",
    "        out_degree = in_out_table.loc[node]['out']\n",
    "        if in_degree != 1 or out_degree != 1:\n",
    "            if out_degree > 0:\n",
    "                for neighbor in neighbors[node]:\n",
    "                    path = [node, neighbor]\n",
    "                    \n",
    "                    # while traversing uniquely 1-in-1-out nodes\n",
    "                    while in_out_table.loc[neighbor]['in'] == 1 and in_out_table.loc[neighbor]['out'] == 1:\n",
    "                        \n",
    "                        # changing to next unique neighbor\n",
    "                        neighbor = neighbors[neighbor][0]\n",
    "                        path.append(neighbor)\n",
    "                    nonbranching_paths.append(path)\n",
    "                    \n",
    "    contigs = []\n",
    "    for path in nonbranching_paths:\n",
    "        contig = path[0]\n",
    "        for i in range(1, len(path)):\n",
    "            contig += path[i][-1]\n",
    "        contigs.append(contig)\n",
    "    contigs = sorted(contigs)\n",
    "    return ' '.join(contigs)\n",
    "\n",
    "# test case given from Rosalind - same as description\n",
    "maximal_nonbranching_paths(\n",
    "    ['ATG', \n",
    "    'ATG',\n",
    "    'TGT',\n",
    "    'TGG',\n",
    "    'CAT',\n",
    "    'GGA',\n",
    "    'GAT',\n",
    "    'AGA']\n",
    ")\n",
    "\n",
    "# expected output\n",
    "# AGA ATG ATG CAT GAT TGGA TGT"
   ]
  },
  {
   "cell_type": "code",
   "execution_count": null,
   "metadata": {},
   "outputs": [],
   "source": []
  }
 ],
 "metadata": {
  "kernelspec": {
   "display_name": "Python 3",
   "language": "python",
   "name": "python3"
  },
  "language_info": {
   "codemirror_mode": {
    "name": "ipython",
    "version": 3
   },
   "file_extension": ".py",
   "mimetype": "text/x-python",
   "name": "python",
   "nbconvert_exporter": "python",
   "pygments_lexer": "ipython3",
   "version": "3.7.3"
  }
 },
 "nbformat": 4,
 "nbformat_minor": 4
}
